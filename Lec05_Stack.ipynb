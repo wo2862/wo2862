{
  "nbformat": 4,
  "nbformat_minor": 0,
  "metadata": {
    "colab": {
      "provenance": []
    },
    "kernelspec": {
      "name": "python3",
      "display_name": "Python 3"
    },
    "language_info": {
      "name": "python"
    }
  },
  "cells": [
    {
      "cell_type": "code",
      "execution_count": 7,
      "metadata": {
        "id": "JbZULY3X8tx5"
      },
      "outputs": [],
      "source": [
        "class Stack:\n",
        "     def __init__(self):\n",
        "         self.items = []\n",
        "\n",
        "     def is_empty(self):\n",
        "         return self.items == []\n",
        "\n",
        "     def push(self, item):\n",
        "         self.items.append(item)\n",
        "\n",
        "     def pop(self):\n",
        "         return self.items.pop()\n",
        "\n",
        "     def peek(self):\n",
        "         return self.items[len(self.items)-1]\n",
        "\n",
        "     def size(self):\n",
        "         return len(self.items)\n",
        "\n",
        "     def pop_all(self):\n",
        "          self.items.clear()\n"
      ]
    },
    {
      "cell_type": "code",
      "source": [
        "\n",
        "s = Stack()"
      ],
      "metadata": {
        "id": "Om5CvZYc8xt3"
      },
      "execution_count": 8,
      "outputs": []
    },
    {
      "cell_type": "code",
      "source": [
        "print(s.is_empty())"
      ],
      "metadata": {
        "id": "m4eyF1s183d5",
        "colab": {
          "base_uri": "https://localhost:8080/"
        },
        "outputId": "db7018b0-ef97-44f1-c4cd-e03d1ef768f6"
      },
      "execution_count": 9,
      "outputs": [
        {
          "output_type": "stream",
          "name": "stdout",
          "text": [
            "True\n"
          ]
        }
      ]
    },
    {
      "cell_type": "code",
      "source": [
        "s.push(4)"
      ],
      "metadata": {
        "id": "L84nkzRE84Eh"
      },
      "execution_count": 10,
      "outputs": []
    },
    {
      "cell_type": "code",
      "source": [
        "\n",
        "s.push('dog')"
      ],
      "metadata": {
        "id": "UqXezjR_858X"
      },
      "execution_count": 11,
      "outputs": []
    },
    {
      "cell_type": "code",
      "source": [
        "s.push(True)"
      ],
      "metadata": {
        "id": "TMYwCoq08-YJ"
      },
      "execution_count": 13,
      "outputs": []
    },
    {
      "cell_type": "code",
      "source": [
        "\n",
        "s.push(True)\n",
        "print(s.size())"
      ],
      "metadata": {
        "colab": {
          "base_uri": "https://localhost:8080/"
        },
        "id": "9pI9hvbb9lSm",
        "outputId": "3f5cb086-cb1c-4332-c48b-57c860916135"
      },
      "execution_count": 14,
      "outputs": [
        {
          "output_type": "stream",
          "name": "stdout",
          "text": [
            "4\n"
          ]
        }
      ]
    },
    {
      "cell_type": "code",
      "source": [
        "\n",
        "print(s.is_empty())"
      ],
      "metadata": {
        "colab": {
          "base_uri": "https://localhost:8080/"
        },
        "id": "o8wLTisZ9nmH",
        "outputId": "6f8fd6ea-ea9c-48d9-a8b4-ceb273bbed0e"
      },
      "execution_count": 15,
      "outputs": [
        {
          "output_type": "stream",
          "name": "stdout",
          "text": [
            "False\n"
          ]
        }
      ]
    },
    {
      "cell_type": "code",
      "source": [
        "s.push(8.4)"
      ],
      "metadata": {
        "id": "NHTlO9Wm9o7H"
      },
      "execution_count": 16,
      "outputs": []
    },
    {
      "cell_type": "code",
      "source": [
        "print(s.pop())"
      ],
      "metadata": {
        "colab": {
          "base_uri": "https://localhost:8080/"
        },
        "id": "61BOMCQZ9qOn",
        "outputId": "722ddde9-ca34-4a77-e660-b761d1598800"
      },
      "execution_count": 17,
      "outputs": [
        {
          "output_type": "stream",
          "name": "stdout",
          "text": [
            "8.4\n"
          ]
        }
      ]
    },
    {
      "cell_type": "code",
      "source": [
        "\n",
        "print(s.pop())"
      ],
      "metadata": {
        "colab": {
          "base_uri": "https://localhost:8080/"
        },
        "id": "BRcmxLB-9r12",
        "outputId": "5b49310f-ea29-4d45-ab76-ccb4fbc924fc"
      },
      "execution_count": 18,
      "outputs": [
        {
          "output_type": "stream",
          "name": "stdout",
          "text": [
            "True\n"
          ]
        }
      ]
    },
    {
      "cell_type": "code",
      "source": [
        "\n",
        "print(s.size())"
      ],
      "metadata": {
        "colab": {
          "base_uri": "https://localhost:8080/"
        },
        "id": "UU_fzWgT9s42",
        "outputId": "c4c492df-0dd6-424d-9b6a-866076c11e34"
      },
      "execution_count": 19,
      "outputs": [
        {
          "output_type": "stream",
          "name": "stdout",
          "text": [
            "3\n"
          ]
        }
      ]
    },
    {
      "cell_type": "code",
      "source": [
        "\n",
        "s.pop_all"
      ],
      "metadata": {
        "colab": {
          "base_uri": "https://localhost:8080/",
          "height": 104
        },
        "id": "jZ8XUH8t9t6e",
        "outputId": "cda969bb-ffbf-49ea-fedd-ec96c2032cd9"
      },
      "execution_count": 20,
      "outputs": [
        {
          "output_type": "execute_result",
          "data": {
            "text/plain": [
              "<bound method Stack.pop_all of <__main__.Stack object at 0x78892583bb90>>"
            ],
            "text/html": [
              "<div style=\"max-width:800px; border: 1px solid var(--colab-border-color);\"><style>\n",
              "      pre.function-repr-contents {\n",
              "        overflow-x: auto;\n",
              "        padding: 8px 12px;\n",
              "        max-height: 500px;\n",
              "      }\n",
              "\n",
              "      pre.function-repr-contents.function-repr-contents-collapsed {\n",
              "        cursor: pointer;\n",
              "        max-height: 100px;\n",
              "      }\n",
              "    </style>\n",
              "    <pre style=\"white-space: initial; background:\n",
              "         var(--colab-secondary-surface-color); padding: 8px 12px;\n",
              "         border-bottom: 1px solid var(--colab-border-color);\"><b>Stack.pop_all</b><br/>def pop_all()</pre><pre class=\"function-repr-contents function-repr-contents-collapsed\" style=\"\"><a class=\"filepath\" style=\"display:none\" href=\"#\">/tmp/ipython-input-7-1995235264.py</a>&lt;no docstring&gt;</pre></div>"
            ]
          },
          "metadata": {},
          "execution_count": 20
        }
      ]
    },
    {
      "cell_type": "code",
      "source": [
        "\n",
        "print(s)"
      ],
      "metadata": {
        "colab": {
          "base_uri": "https://localhost:8080/"
        },
        "id": "IrSP0M_e9vL-",
        "outputId": "d44195fe-22e1-4287-9bd8-e0dd3e873944"
      },
      "execution_count": 21,
      "outputs": [
        {
          "output_type": "stream",
          "name": "stdout",
          "text": [
            "<__main__.Stack object at 0x78892583bb90>\n"
          ]
        }
      ]
    },
    {
      "cell_type": "code",
      "source": [
        "class Stack2:\n",
        "     def __init__(self):\n",
        "          self.items = []\n",
        "\n",
        "     def is_empty(self):\n",
        "          return self.items == []\n",
        "\n",
        "     def push(self, item):\n",
        "          self.items.insert(0, item)\n",
        "\n",
        "     def pop(self):\n",
        "          return self.items.pop(0)\n",
        "\n",
        "     def peek(self):\n",
        "          return self.items[0]\n",
        "\n",
        "     def size(self):\n",
        "          return len(self.items)\n",
        "\n",
        "     def pop_all(self):\n",
        "          self.items.clear()"
      ],
      "metadata": {
        "id": "XmwlU6ov9wyO"
      },
      "execution_count": 22,
      "outputs": []
    },
    {
      "cell_type": "code",
      "source": [
        "import time\n",
        "%matplotlib inline\n",
        "import matplotlib.pyplot as plt\n",
        "import seaborn as sbn"
      ],
      "metadata": {
        "id": "0eO8svZn9xim"
      },
      "execution_count": 23,
      "outputs": []
    },
    {
      "cell_type": "code",
      "source": [
        "sizes = list(range(100,10000,100))"
      ],
      "metadata": {
        "id": "jVcO6xpB9y32"
      },
      "execution_count": 24,
      "outputs": []
    },
    {
      "cell_type": "code",
      "source": [
        "\n",
        "sizes"
      ],
      "metadata": {
        "colab": {
          "base_uri": "https://localhost:8080/"
        },
        "id": "pq6iyRJx905_",
        "outputId": "2bc823f4-15f0-4078-ca73-04aefe0de59c"
      },
      "execution_count": 25,
      "outputs": [
        {
          "output_type": "execute_result",
          "data": {
            "text/plain": [
              "[100,\n",
              " 200,\n",
              " 300,\n",
              " 400,\n",
              " 500,\n",
              " 600,\n",
              " 700,\n",
              " 800,\n",
              " 900,\n",
              " 1000,\n",
              " 1100,\n",
              " 1200,\n",
              " 1300,\n",
              " 1400,\n",
              " 1500,\n",
              " 1600,\n",
              " 1700,\n",
              " 1800,\n",
              " 1900,\n",
              " 2000,\n",
              " 2100,\n",
              " 2200,\n",
              " 2300,\n",
              " 2400,\n",
              " 2500,\n",
              " 2600,\n",
              " 2700,\n",
              " 2800,\n",
              " 2900,\n",
              " 3000,\n",
              " 3100,\n",
              " 3200,\n",
              " 3300,\n",
              " 3400,\n",
              " 3500,\n",
              " 3600,\n",
              " 3700,\n",
              " 3800,\n",
              " 3900,\n",
              " 4000,\n",
              " 4100,\n",
              " 4200,\n",
              " 4300,\n",
              " 4400,\n",
              " 4500,\n",
              " 4600,\n",
              " 4700,\n",
              " 4800,\n",
              " 4900,\n",
              " 5000,\n",
              " 5100,\n",
              " 5200,\n",
              " 5300,\n",
              " 5400,\n",
              " 5500,\n",
              " 5600,\n",
              " 5700,\n",
              " 5800,\n",
              " 5900,\n",
              " 6000,\n",
              " 6100,\n",
              " 6200,\n",
              " 6300,\n",
              " 6400,\n",
              " 6500,\n",
              " 6600,\n",
              " 6700,\n",
              " 6800,\n",
              " 6900,\n",
              " 7000,\n",
              " 7100,\n",
              " 7200,\n",
              " 7300,\n",
              " 7400,\n",
              " 7500,\n",
              " 7600,\n",
              " 7700,\n",
              " 7800,\n",
              " 7900,\n",
              " 8000,\n",
              " 8100,\n",
              " 8200,\n",
              " 8300,\n",
              " 8400,\n",
              " 8500,\n",
              " 8600,\n",
              " 8700,\n",
              " 8800,\n",
              " 8900,\n",
              " 9000,\n",
              " 9100,\n",
              " 9200,\n",
              " 9300,\n",
              " 9400,\n",
              " 9500,\n",
              " 9600,\n",
              " 9700,\n",
              " 9800,\n",
              " 9900]"
            ]
          },
          "metadata": {},
          "execution_count": 25
        }
      ]
    },
    {
      "cell_type": "code",
      "source": [
        "def StackCompare(stack):\n",
        "    timelist = []\n",
        "    for size in sizes:\n",
        "        thelist = list(range(size))\n",
        "        start = time.time()\n",
        "        stack.push(size)\n",
        "        end = time.time()\n",
        "        elapsed = end - start\n",
        "        timelist.append(elapsed)\n",
        "        if size % 100000 == 0:\n",
        "            print(\"progress {}\".format(size))\n",
        "    plt.plot(sizes[:len(timelist)],timelist)\n",
        "    return timelist"
      ],
      "metadata": {
        "id": "-5eywxGT93v2"
      },
      "execution_count": 26,
      "outputs": []
    },
    {
      "cell_type": "code",
      "source": [
        "s = Stack()"
      ],
      "metadata": {
        "id": "zk83lgT094WP"
      },
      "execution_count": 27,
      "outputs": []
    },
    {
      "cell_type": "code",
      "source": [
        "StackTimes = StackCompare(s)\n"
      ],
      "metadata": {
        "colab": {
          "base_uri": "https://localhost:8080/",
          "height": 445
        },
        "id": "qPVw2_RV95uX",
        "outputId": "c4d6f3e3-f14f-4976-e87f-1fc86a4b1c7d"
      },
      "execution_count": 28,
      "outputs": [
        {
          "output_type": "display_data",
          "data": {
            "text/plain": [
              "<Figure size 640x480 with 1 Axes>"
            ],
            "image/png": "[encoded data removed]"
          },
          "metadata": {}
        }
      ]
    },
    {
      "cell_type": "code",
      "source": [
        "s2 = Stack2()\n",
        "StackTimes2 = StackCompare(s2)"
      ],
      "metadata": {
        "colab": {
          "base_uri": "https://localhost:8080/",
          "height": 430
        },
        "id": "FmMgshoD985W",
        "outputId": "1e0c16b9-8586-4361-fcde-182d257c10ce"
      },
      "execution_count": 29,
      "outputs": [
        {
          "output_type": "display_data",
          "data": {
            "text/plain": [
              "<Figure size 640x480 with 1 Axes>"
            ],
            "image/png": "[encoded data removed]"
          },
          "metadata": {}
        }
      ]
    },
    {
      "cell_type": "code",
      "source": [
        "def reverse(str):\n",
        "    st = Stack()\n",
        "    for i in range(len(str)):\n",
        "        st.push(str[i])\n",
        "\n",
        "    out = \"\"\n",
        "    while not st.is_empty():\n",
        "        out += st.pop()\n",
        "\n",
        "    return out"
      ],
      "metadata": {
        "id": "omJ11sKg9-Dn"
      },
      "execution_count": 30,
      "outputs": []
    },
    {
      "cell_type": "code",
      "source": [
        "input = \"Test Seq 12345\"  # 테스트 입력 문자열\n",
        "answer = reverse(input)"
      ],
      "metadata": {
        "id": "SeskaHu5-BJ2"
      },
      "execution_count": 31,
      "outputs": []
    },
    {
      "cell_type": "code",
      "source": [
        "print(\"Input string: \", input)"
      ],
      "metadata": {
        "colab": {
          "base_uri": "https://localhost:8080/"
        },
        "id": "75WNvNNq-CxW",
        "outputId": "874c6529-8f34-4a97-ee8d-6c6fe74a2ef1"
      },
      "execution_count": 32,
      "outputs": [
        {
          "output_type": "stream",
          "name": "stdout",
          "text": [
            "Input string:  Test Seq 12345\n"
          ]
        }
      ]
    },
    {
      "cell_type": "code",
      "source": [
        "print(\"Reversed string: \", answer)"
      ],
      "metadata": {
        "colab": {
          "base_uri": "https://localhost:8080/"
        },
        "id": "u37U1RKz-E5u",
        "outputId": "70b99c2d-7a6c-4e9e-a9fa-cdbdcd5de5ab"
      },
      "execution_count": 33,
      "outputs": [
        {
          "output_type": "stream",
          "name": "stdout",
          "text": [
            "Reversed string:  54321 qeS tseT\n"
          ]
        }
      ]
    },
    {
      "cell_type": "code",
      "source": [
        "def par_checker(symbol_string):\n",
        "    s = Stack()\n",
        "    balanced = True\n",
        "    index = 0\n",
        "\n",
        "    while index < len(symbol_string) and balanced:\n",
        "        symbol = symbol_string[index]\n",
        "        if symbol == \"(\":\n",
        "            s.push(symbol)\n",
        "        else:\n",
        "            if s.is_empty():\n",
        "                balanced = False\n",
        "            else: s.pop()\n",
        "\n",
        "        index = index + 1\n",
        "\n",
        "    if balanced and s.is_empty():\n",
        "        return True\n",
        "    else:\n",
        "        return False"
      ],
      "metadata": {
        "id": "aALn1Dhx-GO-"
      },
      "execution_count": 34,
      "outputs": []
    },
    {
      "cell_type": "code",
      "source": [
        "print(par_checker('(()'))"
      ],
      "metadata": {
        "colab": {
          "base_uri": "https://localhost:8080/"
        },
        "id": "0nG6hE3_-Hwe",
        "outputId": "35e63cd8-d9f1-42b4-8be3-ffb4ae7a5db5"
      },
      "execution_count": 35,
      "outputs": [
        {
          "output_type": "stream",
          "name": "stdout",
          "text": [
            "False\n"
          ]
        }
      ]
    },
    {
      "cell_type": "code",
      "source": [
        "print(par_checker('((()))'))"
      ],
      "metadata": {
        "colab": {
          "base_uri": "https://localhost:8080/"
        },
        "id": "ylqk-kyx-JAW",
        "outputId": "83eb612b-f7ab-40c5-e60d-997b9592d38d"
      },
      "execution_count": 36,
      "outputs": [
        {
          "output_type": "stream",
          "name": "stdout",
          "text": [
            "True\n"
          ]
        }
      ]
    },
    {
      "cell_type": "code",
      "source": [
        "print(par_checker(')'))"
      ],
      "metadata": {
        "colab": {
          "base_uri": "https://localhost:8080/"
        },
        "id": "LiaMUjB9-KFW",
        "outputId": "999f43d8-1d7b-4c65-9532-84c0b5966b1f"
      },
      "execution_count": 37,
      "outputs": [
        {
          "output_type": "stream",
          "name": "stdout",
          "text": [
            "False\n"
          ]
        }
      ]
    },
    {
      "cell_type": "code",
      "source": [
        "def divide_by_2(dec_number):\n",
        "    rem_stack = Stack()\n",
        "\n",
        "    while dec_number > 0:\n",
        "        rem = dec_number % 2\n",
        "        rem_stack.push(rem)\n",
        "        dec_number = dec_number // 2\n",
        "\n",
        "    bin_string = \"\"\n",
        "    while not rem_stack.is_empty():\n",
        "        bin_string = bin_string + str(rem_stack.pop())\n",
        "    return bin_string"
      ],
      "metadata": {
        "id": "5jT3WU9F-Lvf"
      },
      "execution_count": 41,
      "outputs": []
    },
    {
      "cell_type": "code",
      "source": [
        "print(divide_by_2(42))"
      ],
      "metadata": {
        "colab": {
          "base_uri": "https://localhost:8080/",
          "height": 257
        },
        "id": "f6C2GXMV-Ma_",
        "outputId": "47f66c32-2756-40e1-8fbb-14c7ad11a6f4"
      },
      "execution_count": 43,
      "outputs": [
        {
          "output_type": "error",
          "ename": "TypeError",
          "evalue": "'str' object is not callable",
          "traceback": [
            "\u001b[0;31m---------------------------------------------------------------------------\u001b[0m",
            "\u001b[0;31mTypeError\u001b[0m                                 Traceback (most recent call last)",
            "\u001b[0;32m/tmp/ipython-input-43-2163375101.py\u001b[0m in \u001b[0;36m<cell line: 0>\u001b[0;34m()\u001b[0m\n\u001b[0;32m----> 1\u001b[0;31m \u001b[0mprint\u001b[0m\u001b[0;34m(\u001b[0m\u001b[0mdivide_by_2\u001b[0m\u001b[0;34m(\u001b[0m\u001b[0;36m42\u001b[0m\u001b[0;34m)\u001b[0m\u001b[0;34m)\u001b[0m\u001b[0;34m\u001b[0m\u001b[0;34m\u001b[0m\u001b[0m\n\u001b[0m",
            "\u001b[0;32m/tmp/ipython-input-41-1977147183.py\u001b[0m in \u001b[0;36mdivide_by_2\u001b[0;34m(dec_number)\u001b[0m\n\u001b[1;32m      9\u001b[0m     \u001b[0mbin_string\u001b[0m \u001b[0;34m=\u001b[0m \u001b[0;34m\"\"\u001b[0m\u001b[0;34m\u001b[0m\u001b[0;34m\u001b[0m\u001b[0m\n\u001b[1;32m     10\u001b[0m     \u001b[0;32mwhile\u001b[0m \u001b[0;32mnot\u001b[0m \u001b[0mrem_stack\u001b[0m\u001b[0;34m.\u001b[0m\u001b[0mis_empty\u001b[0m\u001b[0;34m(\u001b[0m\u001b[0;34m)\u001b[0m\u001b[0;34m:\u001b[0m\u001b[0;34m\u001b[0m\u001b[0;34m\u001b[0m\u001b[0m\n\u001b[0;32m---> 11\u001b[0;31m         \u001b[0mbin_string\u001b[0m \u001b[0;34m=\u001b[0m \u001b[0mbin_string\u001b[0m \u001b[0;34m+\u001b[0m \u001b[0mstr\u001b[0m\u001b[0;34m(\u001b[0m\u001b[0mrem_stack\u001b[0m\u001b[0;34m.\u001b[0m\u001b[0mpop\u001b[0m\u001b[0;34m(\u001b[0m\u001b[0;34m)\u001b[0m\u001b[0;34m)\u001b[0m\u001b[0;34m\u001b[0m\u001b[0;34m\u001b[0m\u001b[0m\n\u001b[0m\u001b[1;32m     12\u001b[0m     \u001b[0;32mreturn\u001b[0m \u001b[0mbin_string\u001b[0m\u001b[0;34m\u001b[0m\u001b[0;34m\u001b[0m\u001b[0m\n",
            "\u001b[0;31mTypeError\u001b[0m: 'str' object is not callable"
          ]
        }
      ]
    },
    {
      "cell_type": "code",
      "source": [
        "print(divide_by_2(8))"
      ],
      "metadata": {
        "colab": {
          "base_uri": "https://localhost:8080/",
          "height": 257
        },
        "id": "0Fu5x1L3-QJu",
        "outputId": "b539ba05-a0b2-4217-a492-2c3b27b3371a"
      },
      "execution_count": 40,
      "outputs": [
        {
          "output_type": "error",
          "ename": "TypeError",
          "evalue": "'str' object is not callable",
          "traceback": [
            "\u001b[0;31m---------------------------------------------------------------------------\u001b[0m",
            "\u001b[0;31mTypeError\u001b[0m                                 Traceback (most recent call last)",
            "\u001b[0;32m/tmp/ipython-input-40-668441006.py\u001b[0m in \u001b[0;36m<cell line: 0>\u001b[0;34m()\u001b[0m\n\u001b[0;32m----> 1\u001b[0;31m \u001b[0mprint\u001b[0m\u001b[0;34m(\u001b[0m\u001b[0mdivide_by_2\u001b[0m\u001b[0;34m(\u001b[0m\u001b[0;36m8\u001b[0m\u001b[0;34m)\u001b[0m\u001b[0;34m)\u001b[0m\u001b[0;34m\u001b[0m\u001b[0;34m\u001b[0m\u001b[0m\n\u001b[0m",
            "\u001b[0;32m/tmp/ipython-input-38-1977147183.py\u001b[0m in \u001b[0;36mdivide_by_2\u001b[0;34m(dec_number)\u001b[0m\n\u001b[1;32m      9\u001b[0m     \u001b[0mbin_string\u001b[0m \u001b[0;34m=\u001b[0m \u001b[0;34m\"\"\u001b[0m\u001b[0;34m\u001b[0m\u001b[0;34m\u001b[0m\u001b[0m\n\u001b[1;32m     10\u001b[0m     \u001b[0;32mwhile\u001b[0m \u001b[0;32mnot\u001b[0m \u001b[0mrem_stack\u001b[0m\u001b[0;34m.\u001b[0m\u001b[0mis_empty\u001b[0m\u001b[0;34m(\u001b[0m\u001b[0;34m)\u001b[0m\u001b[0;34m:\u001b[0m\u001b[0;34m\u001b[0m\u001b[0;34m\u001b[0m\u001b[0m\n\u001b[0;32m---> 11\u001b[0;31m         \u001b[0mbin_string\u001b[0m \u001b[0;34m=\u001b[0m \u001b[0mbin_string\u001b[0m \u001b[0;34m+\u001b[0m \u001b[0mstr\u001b[0m\u001b[0;34m(\u001b[0m\u001b[0mrem_stack\u001b[0m\u001b[0;34m.\u001b[0m\u001b[0mpop\u001b[0m\u001b[0;34m(\u001b[0m\u001b[0;34m)\u001b[0m\u001b[0;34m)\u001b[0m\u001b[0;34m\u001b[0m\u001b[0;34m\u001b[0m\u001b[0m\n\u001b[0m\u001b[1;32m     12\u001b[0m     \u001b[0;32mreturn\u001b[0m \u001b[0mbin_string\u001b[0m\u001b[0;34m\u001b[0m\u001b[0;34m\u001b[0m\u001b[0m\n",
            "\u001b[0;31mTypeError\u001b[0m: 'str' object is not callable"
          ]
        }
      ]
    },
    {
      "cell_type": "code",
      "source": [
        "print(divide_by_2(10))"
      ],
      "metadata": {
        "colab": {
          "base_uri": "https://localhost:8080/",
          "height": 257
        },
        "id": "IDdNCqsz-Uw2",
        "outputId": "54422ae0-4306-43e2-f7bf-387570985dba"
      },
      "execution_count": 44,
      "outputs": [
        {
          "output_type": "error",
          "ename": "TypeError",
          "evalue": "'str' object is not callable",
          "traceback": [
            "\u001b[0;31m---------------------------------------------------------------------------\u001b[0m",
            "\u001b[0;31mTypeError\u001b[0m                                 Traceback (most recent call last)",
            "\u001b[0;32m/tmp/ipython-input-44-388662304.py\u001b[0m in \u001b[0;36m<cell line: 0>\u001b[0;34m()\u001b[0m\n\u001b[0;32m----> 1\u001b[0;31m \u001b[0mprint\u001b[0m\u001b[0;34m(\u001b[0m\u001b[0mdivide_by_2\u001b[0m\u001b[0;34m(\u001b[0m\u001b[0;36m10\u001b[0m\u001b[0;34m)\u001b[0m\u001b[0;34m)\u001b[0m\u001b[0;34m\u001b[0m\u001b[0;34m\u001b[0m\u001b[0m\n\u001b[0m",
            "\u001b[0;32m/tmp/ipython-input-41-1977147183.py\u001b[0m in \u001b[0;36mdivide_by_2\u001b[0;34m(dec_number)\u001b[0m\n\u001b[1;32m      9\u001b[0m     \u001b[0mbin_string\u001b[0m \u001b[0;34m=\u001b[0m \u001b[0;34m\"\"\u001b[0m\u001b[0;34m\u001b[0m\u001b[0;34m\u001b[0m\u001b[0m\n\u001b[1;32m     10\u001b[0m     \u001b[0;32mwhile\u001b[0m \u001b[0;32mnot\u001b[0m \u001b[0mrem_stack\u001b[0m\u001b[0;34m.\u001b[0m\u001b[0mis_empty\u001b[0m\u001b[0;34m(\u001b[0m\u001b[0;34m)\u001b[0m\u001b[0;34m:\u001b[0m\u001b[0;34m\u001b[0m\u001b[0;34m\u001b[0m\u001b[0m\n\u001b[0;32m---> 11\u001b[0;31m         \u001b[0mbin_string\u001b[0m \u001b[0;34m=\u001b[0m \u001b[0mbin_string\u001b[0m \u001b[0;34m+\u001b[0m \u001b[0mstr\u001b[0m\u001b[0;34m(\u001b[0m\u001b[0mrem_stack\u001b[0m\u001b[0;34m.\u001b[0m\u001b[0mpop\u001b[0m\u001b[0;34m(\u001b[0m\u001b[0;34m)\u001b[0m\u001b[0;34m)\u001b[0m\u001b[0;34m\u001b[0m\u001b[0;34m\u001b[0m\u001b[0m\n\u001b[0m\u001b[1;32m     12\u001b[0m     \u001b[0;32mreturn\u001b[0m \u001b[0mbin_string\u001b[0m\u001b[0;34m\u001b[0m\u001b[0;34m\u001b[0m\u001b[0m\n",
            "\u001b[0;31mTypeError\u001b[0m: 'str' object is not callable"
          ]
        }
      ]
    }
  ]
}